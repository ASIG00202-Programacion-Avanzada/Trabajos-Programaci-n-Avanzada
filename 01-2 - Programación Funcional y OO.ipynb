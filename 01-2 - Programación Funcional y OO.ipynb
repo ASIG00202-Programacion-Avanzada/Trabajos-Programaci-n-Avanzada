{
 "cells": [
  {
   "cell_type": "markdown",
   "id": "c81eee78",
   "metadata": {},
   "source": [
    "\n",
    "#  ![images-2-2.png](data:image/png;base64,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)   **Universidad de la ciudad de Buenos Aires**"
   ]
  },
  {
   "cell_type": "markdown",
   "id": "f8953987",
   "metadata": {},
   "source": [
    "# Programación Avanzada en Python\n",
    "Curso: Programación avanzada para ciencia de datos"
   ]
  },
  {
   "cell_type": "markdown",
   "id": "8f7ef12e",
   "metadata": {},
   "source": [
    "Este notebook combina dos paradigmas fundamentales de programación en Python:\n",
    "\n",
    "- **Programación Funcional**: Uso de funciones lambda, map, filter y reduce.\n",
    "- **Programación Orientada a Objetos (POO)**: Uso de clases, herencia, encapsulamiento y polimorfismo.\n",
    "\n",
    "Cada sección incluye explicaciones breves y ejemplos prácticos."
   ]
  },
  {
   "cell_type": "markdown",
   "id": "8a42cc68",
   "metadata": {},
   "source": [
    "## Índice\n",
    "1. [Programación Funcional](#funcional)\n",
    "2. [Programación Orientada a Objetos](#poo)"
   ]
  },
  {
   "cell_type": "markdown",
   "id": "d75a542a",
   "metadata": {},
   "source": [
    "## <a id='funcional'></a>1. Programación Funcional"
   ]
  },
  {
   "cell_type": "markdown",
   "id": "8ca2d42a",
   "metadata": {},
   "source": [
    "La **programación funcional** es un paradigma de programación en el que las funciones son tratadas como ciudadanos de primera clase. Es decir, pueden ser pasadas como argumentos, retornadas por otras funciones y asignadas a variables. En esta unidad exploraremos las funciones lambda y las funciones de orden superior como `map`, `filter` y `reduce`, que permiten trabajar de manera más declarativa sobre colecciones de datos."
   ]
  },
  {
   "cell_type": "markdown",
   "id": "bb8e7d5c",
   "metadata": {},
   "source": [
    "### 1.1. Funciones Lambda\n",
    "Las funciones `lambda` son funciones anónimas, es decir, funciones sin nombre que se definen en una sola línea."
   ]
  },
  {
   "cell_type": "code",
   "execution_count": 2,
   "id": "5cdac365",
   "metadata": {},
   "outputs": [
    {
     "name": "stdout",
     "output_type": "stream",
     "text": [
      "25\n"
     ]
    }
   ],
   "source": [
    "def cuadrado(x):\n",
    "    return x ** 2\n",
    "\n",
    "# Equivalente con lambda\n",
    "cuadrado_lambda = lambda x: x ** 2\n",
    "print(cuadrado_lambda(5))"
   ]
  },
  {
   "cell_type": "code",
   "execution_count": 14,
   "id": "4bea94b7",
   "metadata": {},
   "outputs": [
    {
     "name": "stdout",
     "output_type": "stream",
     "text": [
      "7.0\n"
     ]
    }
   ],
   "source": [
    "import numpy as np\n",
    "def lambdaOwn(x):\n",
    "    return np.sqrt(x)\n",
    "\n",
    "raiz_lambda = lambda x: np.sqrt(x)\n",
    "print(raiz_lambda(49))"
   ]
  },
  {
   "cell_type": "markdown",
   "id": "98a96457",
   "metadata": {},
   "source": [
    "### 1.2. Funciones de Orden Superior\n",
    "Son funciones que reciben otras funciones como argumento o retornan funciones."
   ]
  },
  {
   "cell_type": "markdown",
   "id": "10d30d56",
   "metadata": {},
   "source": [
    "#### 1.2.1. `map()`\n",
    "Aplica una función a cada elemento de un iterable."
   ]
  },
  {
   "cell_type": "code",
   "execution_count": 1,
   "id": "9b8b54aa",
   "metadata": {},
   "outputs": [
    {
     "name": "stdout",
     "output_type": "stream",
     "text": [
      "[1, 4, 9, 16]\n"
     ]
    }
   ],
   "source": [
    "numeros = [1, 2, 3, 4]\n",
    "cuadrados = list(map(lambda x: x**2, numeros))\n",
    "print(cuadrados)"
   ]
  },
  {
   "cell_type": "markdown",
   "id": "be1b0719",
   "metadata": {},
   "source": [
    "#### 1.2.2. `filter()`\n",
    "Filtra elementos de un iterable según una condición booleana."
   ]
  },
  {
   "cell_type": "code",
   "execution_count": 2,
   "id": "862c0449",
   "metadata": {},
   "outputs": [
    {
     "name": "stdout",
     "output_type": "stream",
     "text": [
      "[2, 4, 6]\n"
     ]
    }
   ],
   "source": [
    "numeros = [1, 2, 3, 4, 5, 6]\n",
    "pares = list(filter(lambda x: x % 2 == 0, numeros))\n",
    "print(pares)"
   ]
  },
  {
   "cell_type": "markdown",
   "id": "ed15f4e7",
   "metadata": {},
   "source": [
    "#### 1.2.3 `reduce()`\n",
    "Aplica una función de forma acumulativa a los elementos de un iterable.\n",
    "Necesita importarse desde `functools`."
   ]
  },
  {
   "cell_type": "code",
   "execution_count": 3,
   "id": "fd5eded3",
   "metadata": {},
   "outputs": [
    {
     "name": "stdout",
     "output_type": "stream",
     "text": [
      "10\n"
     ]
    }
   ],
   "source": [
    "from functools import reduce\n",
    "numeros = [1, 2, 3, 4]\n",
    "suma = reduce(lambda x, y: x + y, numeros)\n",
    "print(suma)"
   ]
  },
  {
   "cell_type": "markdown",
   "id": "3161deb6",
   "metadata": {},
   "source": []
  },
  {
   "cell_type": "markdown",
   "id": "bb751649",
   "metadata": {},
   "source": [
    "## <a id='poo'></a>2. Programación Orientada a Objetos"
   ]
  },
  {
   "cell_type": "markdown",
   "id": "49a90c09",
   "metadata": {},
   "source": [
    "La programación orientada a objetos (POO) permite modelar entidades como **objetos** que agrupan atributos y métodos. A continuación se presentan los conceptos principales con ejemplos simples."
   ]
  },
  {
   "cell_type": "markdown",
   "id": "fcf7ef7c",
   "metadata": {},
   "source": [
    "### 2.1. Clases y Objetos"
   ]
  },
  {
   "cell_type": "code",
   "execution_count": 4,
   "id": "c526cea5",
   "metadata": {},
   "outputs": [],
   "source": [
    "class Persona:\n",
    "    def __init__(self, nombre):\n",
    "        self.nombre = nombre\n",
    "\n",
    "    def saludar(self):\n",
    "        return f\"Hola, soy {self.nombre}\""
   ]
  },
  {
   "cell_type": "code",
   "execution_count": 5,
   "id": "77b193ca",
   "metadata": {},
   "outputs": [
    {
     "name": "stdout",
     "output_type": "stream",
     "text": [
      "Hola, soy Ana\n"
     ]
    }
   ],
   "source": [
    "p = Persona(\"Ana\")\n",
    "print(p.saludar())"
   ]
  },
  {
   "cell_type": "markdown",
   "id": "a301eea4",
   "metadata": {},
   "source": [
    "### 2.2. Atributos y Métodos"
   ]
  },
  {
   "cell_type": "code",
   "execution_count": 6,
   "id": "fc5fdee3",
   "metadata": {},
   "outputs": [],
   "source": [
    "class Cuenta:\n",
    "    def __init__(self, saldo):\n",
    "        self.saldo = saldo\n",
    "\n",
    "    def depositar(self, monto):\n",
    "        self.saldo += monto"
   ]
  },
  {
   "cell_type": "code",
   "execution_count": 7,
   "id": "1c7a89d5",
   "metadata": {},
   "outputs": [
    {
     "name": "stdout",
     "output_type": "stream",
     "text": [
      "1500\n"
     ]
    }
   ],
   "source": [
    "c = Cuenta(1000)\n",
    "c.depositar(500)\n",
    "print(c.saldo)"
   ]
  },
  {
   "cell_type": "markdown",
   "id": "06ca90c0",
   "metadata": {},
   "source": [
    "### 2.3. Herencia"
   ]
  },
  {
   "cell_type": "code",
   "execution_count": 8,
   "id": "22ffef7e",
   "metadata": {},
   "outputs": [],
   "source": [
    "class Empleado(Persona):\n",
    "    def __init__(self, nombre, puesto):\n",
    "        super().__init__(nombre)\n",
    "        self.puesto = puesto"
   ]
  },
  {
   "cell_type": "code",
   "execution_count": 9,
   "id": "01316bde",
   "metadata": {},
   "outputs": [
    {
     "name": "stdout",
     "output_type": "stream",
     "text": [
      "Hola, soy Luis\n",
      "Analista\n"
     ]
    }
   ],
   "source": [
    "e = Empleado(\"Luis\", \"Analista\")\n",
    "print(e.saludar())\n",
    "print(e.puesto)"
   ]
  },
  {
   "cell_type": "markdown",
   "id": "db9d376d",
   "metadata": {},
   "source": [
    "### 2.4. Encapsulamiento"
   ]
  },
  {
   "cell_type": "code",
   "execution_count": 10,
   "id": "efb03b3f",
   "metadata": {},
   "outputs": [],
   "source": [
    "class Producto:\n",
    "    def __init__(self, precio):\n",
    "        self.__precio = precio  # privado\n",
    "\n",
    "    def obtener_precio(self):\n",
    "        return self.__precio"
   ]
  },
  {
   "cell_type": "code",
   "execution_count": 11,
   "id": "9ba2f5ac",
   "metadata": {},
   "outputs": [
    {
     "name": "stdout",
     "output_type": "stream",
     "text": [
      "99.99\n"
     ]
    }
   ],
   "source": [
    "prod = Producto(99.99)\n",
    "print(prod.obtener_precio())"
   ]
  },
  {
   "cell_type": "markdown",
   "id": "8423df86",
   "metadata": {},
   "source": [
    "### 2.5. Polimorfismo"
   ]
  },
  {
   "cell_type": "code",
   "execution_count": 12,
   "id": "cb6db0fc",
   "metadata": {},
   "outputs": [],
   "source": [
    "class Animal:\n",
    "    def hablar(self):\n",
    "        return \"Sonido\"\n",
    "\n",
    "class Perro(Animal):\n",
    "    def hablar(self):\n",
    "        return \"Guau\"\n",
    "\n",
    "class Gato(Animal):\n",
    "    def hablar(self):\n",
    "        return \"Miau\""
   ]
  },
  {
   "cell_type": "code",
   "execution_count": 13,
   "id": "77ec0196",
   "metadata": {},
   "outputs": [
    {
     "name": "stdout",
     "output_type": "stream",
     "text": [
      "Guau\n",
      "Miau\n"
     ]
    }
   ],
   "source": [
    "animales = [Perro(), Gato()]\n",
    "for a in animales:\n",
    "    print(a.hablar())"
   ]
  },
  {
   "cell_type": "markdown",
   "id": "26dc597e",
   "metadata": {},
   "source": [
    "## 3. Conclusión\n",
    "\n",
    "La programación funcional permite escribir código más conciso y expresivo. Las funciones `lambda`, `map`, `filter` y `reduce` son herramientas clave para aplicar este paradigma en Python. Es recomendable usarlas cuando mejoran la legibilidad y mantenibilidad del código.\n",
    "\n",
    "La POO facilita el diseño de programas más estructurados, reutilizables y mantenibles a través de clases, objetos, herencia y otros conceptos clave."
   ]
  },
  {
   "cell_type": "markdown",
   "id": "a5a6733d",
   "metadata": {},
   "source": [
    "Agradecimientos:\n",
    "MasterGIS - Sintaxis de Minería de Datos con Python"
   ]
  }
 ],
 "metadata": {
  "kernelspec": {
   "display_name": "Python 3",
   "language": "python",
   "name": "python3"
  },
  "language_info": {
   "codemirror_mode": {
    "name": "ipython",
    "version": 3
   },
   "file_extension": ".py",
   "mimetype": "text/x-python",
   "name": "python",
   "nbconvert_exporter": "python",
   "pygments_lexer": "ipython3",
   "version": "3.13.5"
  }
 },
 "nbformat": 4,
 "nbformat_minor": 5
}
