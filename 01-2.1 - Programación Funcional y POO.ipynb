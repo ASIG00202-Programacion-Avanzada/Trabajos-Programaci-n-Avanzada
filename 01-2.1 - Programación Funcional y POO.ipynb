{
 "cells": [
  {
   "cell_type": "markdown",
   "metadata": {
    "id": "hJHQDcwBBxFP"
   },
   "source": [
    "\n",
    "#  ![images-2-2.png](data:image/png;base64,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)   **Universidad de la ciudad de Buenos Aires**"
   ]
  },
  {
   "cell_type": "markdown",
   "metadata": {
    "id": "-Hooj5tyB0Y8"
   },
   "source": [
    "# Programación funcional en Python\n",
    "Adicional de las funciones más comunes que se usan en ciencia de datos, veamos 3 ejemplos/temas de la programación funcional."
   ]
  },
  {
   "cell_type": "markdown",
   "metadata": {
    "id": "Y9JBxuJlw8f3"
   },
   "source": [
    "## 1. Funciones en Python\n",
    "Creación de una función en Python"
   ]
  },
  {
   "cell_type": "code",
   "execution_count": null,
   "metadata": {
    "id": "r8VOIC0xwLOm"
   },
   "outputs": [],
   "source": [
    "def add_one(number):\n",
    "  return number + 1\n",
    "add_one(2)"
   ]
  },
  {
   "cell_type": "markdown",
   "metadata": {
    "id": "EI-9uQIyxFaU"
   },
   "source": [
    "## 2. First-Class Objects\n",
    "Aunque en programación funcional, se enfoca en funciones, no te confundas con su nombre ... ¿qué imprime este código?¿cómo lo definirias?"
   ]
  },
  {
   "cell_type": "code",
   "execution_count": 8,
   "metadata": {
    "colab": {
     "base_uri": "https://localhost:8080/"
    },
    "executionInfo": {
     "elapsed": 11,
     "status": "ok",
     "timestamp": 1755480854472,
     "user": {
      "displayName": "Juan Carlos Cifuentes Duran",
      "userId": "01022902487848368599"
     },
     "user_tz": 300
    },
    "id": "w5hfWQntxdfe",
    "outputId": "13159f35-5a05-4295-de9e-88170af191fe"
   },
   "outputs": [
    {
     "name": "stdout",
     "output_type": "stream",
     "text": [
      "Soy una función que realiza una regresión Lineal\n",
      "Yo ejecuto metricas al modelo Lineal\n"
     ]
    }
   ],
   "source": [
    "def lineal(name):\n",
    "    return f\"Soy una función que realiza una regresión {name}\"\n",
    "\n",
    "def metricas(name):\n",
    "    return f\"Yo ejecuto metricas para validar al modelo {name}\"\n",
    "\n",
    "def modelosSupervisado(modelo_eleccion):\n",
    "    return modelo_eleccion(\"Lineal\")\n",
    "\n",
    "print(modelosSupervisado(lineal))\n",
    "print(modelosSupervisado(metricas))"
   ]
  },
  {
   "cell_type": "markdown",
   "metadata": {
    "id": "SJZ-VZoV0RRw"
   },
   "source": [
    "## 3. Inner Functions\n",
    "Podemos definir una función dentro de otra ..."
   ]
  },
  {
   "cell_type": "code",
   "execution_count": 11,
   "metadata": {
    "colab": {
     "base_uri": "https://localhost:8080/"
    },
    "executionInfo": {
     "elapsed": 12,
     "status": "ok",
     "timestamp": 1755481149282,
     "user": {
      "displayName": "Juan Carlos Cifuentes Duran",
      "userId": "01022902487848368599"
     },
     "user_tz": 300
    },
    "id": "-ueVwJG-xxdq",
    "outputId": "e9ace33a-f869-4cba-de82-f91ee9857033"
   },
   "outputs": [
    {
     "name": "stdout",
     "output_type": "stream",
     "text": [
      "Se ejecutara un modelo de regresión lineal y su evaluación de forma consecutiva:\n",
      "Soy una función que realiza una regresión Lineal\n",
      "Yo ejecuto metricas para validar al modelo Lineal\n"
     ]
    }
   ],
   "source": [
    "def modelosSupervisado(modelo_eleccion):\n",
    "  print(\"Se ejecutara un modelo de regresión lineal y su evaluación de forma consecutiva:\")\n",
    "  def lineal(modelo):\n",
    "    print(f\" - Soy una función que realiza una regresión {modelo}\")\n",
    "\n",
    "  def metricas(modelo):\n",
    "    print(f\" - Yo ejecuto metricas para validar al modelo {modelo}\")\n",
    "\n",
    "  lineal(modelo_eleccion)\n",
    "  metricas(modelo_eleccion)\n",
    "\n",
    "modelosSupervisado(\"Lineal\")\n"
   ]
  },
  {
   "cell_type": "markdown",
   "metadata": {
    "id": "hRS_pu3f1Oma"
   },
   "source": [
    "## 4. Functions as Return Values\n",
    "Podemos definir que una función retorne otra función, vamos como ..."
   ]
  },
  {
   "cell_type": "code",
   "execution_count": 14,
   "metadata": {
    "colab": {
     "base_uri": "https://localhost:8080/"
    },
    "executionInfo": {
     "elapsed": 10,
     "status": "ok",
     "timestamp": 1755481453525,
     "user": {
      "displayName": "Juan Carlos Cifuentes Duran",
      "userId": "01022902487848368599"
     },
     "user_tz": 300
    },
    "id": "IN3Xib_a1O7c",
    "outputId": "1edb46e9-c814-4823-9233-9d4883c49c1d"
   },
   "outputs": [
    {
     "name": "stdout",
     "output_type": "stream",
     "text": [
      " - Soy una función que realiza una Regresión Lineal\n",
      " - Soy una función que realiza un Random Forest\n"
     ]
    }
   ],
   "source": [
    "def modelosSupervisados(modelo):\n",
    "    def regresion_lineal():\n",
    "        return \" - Soy una función que realiza una Regresión Lineal\"\n",
    "\n",
    "    def random_forest():\n",
    "        return \" - Soy una función que realiza un Random Forest\"\n",
    "\n",
    "    if modelo == 1:\n",
    "        return regresion_lineal\n",
    "    else:\n",
    "        return random_forest\n",
    "\n",
    "regresion_lineal = modelosSupervisados(1)\n",
    "random_forest = modelosSupervisados(2)\n",
    "print(regresion_lineal())\n",
    "print(random_forest())"
   ]
  },
  {
   "cell_type": "markdown",
   "metadata": {
    "id": "ECmVpg9b2Vo_"
   },
   "source": [
    "¿puedo solo ejecutar esta linea regresion_lineal()? Explicar por qué."
   ]
  },
  {
   "cell_type": "markdown",
   "metadata": {
    "id": "7Jus0x4I2dqh"
   },
   "source": [
    "## 5. Decoradores de Python simples\n",
    "\n",
    "Estamos en la fase de obtención de datos, pero estamos decidienco si usar ETL o ELT y para esto queremos saber **cuánto tiempo se demora entre los procesos** y así definir cual se implementara en el proyecto final(_recuerda es un caso hipotetico y no es el criterio para definir el proceso en un proyecto real_).\n",
    "\n",
    "Dos equipos realizaron la codificación en python para ETL y ELT, ¿cómo podemos comparar el tiempo que demora cada ejecución utilizando programación funcional ...?"
   ]
  },
  {
   "cell_type": "code",
   "execution_count": 50,
   "metadata": {
    "executionInfo": {
     "elapsed": 9,
     "status": "ok",
     "timestamp": 1755483628546,
     "user": {
      "displayName": "Juan Carlos Cifuentes Duran",
      "userId": "01022902487848368599"
     },
     "user_tz": 300
    },
    "id": "QeO5z1mG2q46"
   },
   "outputs": [],
   "source": [
    "import time\n",
    "def pipeline(func):\n",
    "    def contabilizar_proceso():\n",
    "        inicio = time.time()\n",
    "        resultado = func()\n",
    "        time.sleep(1)  # simulamos que tarda un poco\n",
    "        fin = time.time()\n",
    "        print(f\"La función {func.__name__} tardó {fin - inicio:.4f} segundos.\")\n",
    "    return contabilizar_proceso\n",
    "\n",
    "\n",
    "def etl():\n",
    "  print(\" Se ejecuta el proceso de extraer, transformar y cargar los datos.\")\n",
    "\n",
    "etl = pipeline(etl)"
   ]
  },
  {
   "cell_type": "code",
   "execution_count": 51,
   "metadata": {
    "colab": {
     "base_uri": "https://localhost:8080/"
    },
    "executionInfo": {
     "elapsed": 1017,
     "status": "ok",
     "timestamp": 1755483630727,
     "user": {
      "displayName": "Juan Carlos Cifuentes Duran",
      "userId": "01022902487848368599"
     },
     "user_tz": 300
    },
    "id": "jZggSXox8fKw",
    "outputId": "11e75b85-845c-4b94-92e8-81a06535f98c"
   },
   "outputs": [
    {
     "name": "stdout",
     "output_type": "stream",
     "text": [
      " Se ejecuta el proceso de extraer, transformar y cargar los datos.\n",
      "La función etl tardó 1.0127 segundos.\n"
     ]
    }
   ],
   "source": [
    "etl()"
   ]
  },
  {
   "cell_type": "markdown",
   "metadata": {
    "id": "Ow_bL-Le92Px"
   },
   "source": [
    "### Agregando un decorador sintetico\n",
    "Podemos evitarnos el último paso de la asignación del decorador y su adición y definir que funciones queremos comparar, es decir cambiamos la siguiente linea:\n",
    "\n",
    "```python\n",
    "etl = pipeline(etl)\n",
    "```\n",
    "\n",
    "Adicionando antes de las funciones, el nombre de la funcion decorador como: @NombreDecorador.\n",
    "\n",
    "Para nuestro escenario, sería\n",
    "\n",
    "```python\n",
    "@pipeline\n",
    "```"
   ]
  },
  {
   "cell_type": "code",
   "execution_count": 1,
   "metadata": {
    "executionInfo": {
     "elapsed": 12,
     "status": "ok",
     "timestamp": 1755483603748,
     "user": {
      "displayName": "Juan Carlos Cifuentes Duran",
      "userId": "01022902487848368599"
     },
     "user_tz": 300
    },
    "id": "a6LukF4N901c"
   },
   "outputs": [],
   "source": [
    "import time\n",
    "def pipeline(func):\n",
    "    def contabilizar_proceso():\n",
    "        inicio = time.time()\n",
    "        resultado = func()\n",
    "        time.sleep(1)  # simulamos que tarda un poco\n",
    "        fin = time.time()\n",
    "        print(f\"La función {func.__name__} tardó {fin - inicio:.4f} segundos.\")\n",
    "    return contabilizar_proceso\n",
    "\n",
    "@pipeline\n",
    "def etl():\n",
    "  print(\" Se ejecuta el proceso de extraer, transformar y cargar los datos.\")\n",
    "\n",
    "@pipeline\n",
    "def elt():\n",
    "  print(\" Se ejecuta el proceso de extraer, cargar y transformar los datos.\")"
   ]
  },
  {
   "cell_type": "code",
   "execution_count": 47,
   "metadata": {
    "colab": {
     "base_uri": "https://localhost:8080/"
    },
    "executionInfo": {
     "elapsed": 1158,
     "status": "ok",
     "timestamp": 1755483594677,
     "user": {
      "displayName": "Juan Carlos Cifuentes Duran",
      "userId": "01022902487848368599"
     },
     "user_tz": 300
    },
    "id": "kSZPiBKH3pic",
    "outputId": "a71182fd-67c5-41ca-c60f-75d07c26d976"
   },
   "outputs": [
    {
     "name": "stdout",
     "output_type": "stream",
     "text": [
      " Se ejecuta el proceso de extraer, cargar y transformar los datos.\n",
      "La función etl tardó 1.0004 segundos.\n"
     ]
    }
   ],
   "source": [
    "etl()"
   ]
  },
  {
   "cell_type": "code",
   "execution_count": 2,
   "metadata": {
    "colab": {
     "base_uri": "https://localhost:8080/"
    },
    "executionInfo": {
     "elapsed": 1058,
     "status": "ok",
     "timestamp": 1755483606759,
     "user": {
      "displayName": "Juan Carlos Cifuentes Duran",
      "userId": "01022902487848368599"
     },
     "user_tz": 300
    },
    "id": "v565PF7H56dt",
    "outputId": "a5c08828-ba0c-46f8-cc0a-411e9be7b310"
   },
   "outputs": [
    {
     "name": "stdout",
     "output_type": "stream",
     "text": [
      " Se ejecuta el proceso de extraer, cargar y transformar los datos.\n",
      "La función elt tardó 1.0008 segundos.\n"
     ]
    }
   ],
   "source": [
    "elt()"
   ]
  },
  {
   "cell_type": "markdown",
   "metadata": {
    "id": "7TY6kEgWw5_y"
   },
   "source": []
  },
  {
   "cell_type": "markdown",
   "metadata": {
    "id": "F_Il3ybECU-p"
   },
   "source": [
    "# Información adicional\n",
    "\n",
    "Si deseas ampliar tu conocimiento consulta: https://realpython.com/primer-on-python-decorators/"
   ]
  }
 ],
 "metadata": {
  "colab": {
   "authorship_tag": "ABX9TyNXYzD4D4ARbORiInn4aqon",
   "provenance": []
  },
  "kernelspec": {
   "display_name": "Python 3",
   "name": "python3"
  },
  "language_info": {
   "codemirror_mode": {
    "name": "ipython",
    "version": 3
   },
   "file_extension": ".py",
   "mimetype": "text/x-python",
   "name": "python",
   "nbconvert_exporter": "python",
   "pygments_lexer": "ipython3",
   "version": "3.13.5"
  }
 },
 "nbformat": 4,
 "nbformat_minor": 0
}
