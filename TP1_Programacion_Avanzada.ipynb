{
  "nbformat": 4,
  "nbformat_minor": 0,
  "metadata": {
    "colab": {
      "provenance": []
    },
    "kernelspec": {
      "name": "python3",
      "display_name": "Python 3"
    },
    "language_info": {
      "name": "python"
    }
  },
  "cells": [
    {
      "cell_type": "markdown",
      "source": [
        "# Tarea Programacion Orientada a Objetos Python\n",
        "Grupo: La Programeta"
      ],
      "metadata": {
        "id": "SxXz6wnDDBas"
      }
    },
    {
      "cell_type": "markdown",
      "source": [
        "### Primer punto:\n",
        "Crea una clase llamada Persona que tenga como atributos _nombre  y _edad.\n",
        "\n",
        "El constructor  debe inicializar estos atributos con los valores proporcionados. Además, crea un método llamado mostrar() que imprima por pantalla un mensaje con el nombre y la edad de la persona en el formato:\n",
        "\n",
        "Ejemplo de salida:\n",
        "\n",
        "\"Esta persona se llama {nombre}, tiene {edad} años\".\n",
        "\n",
        "Finalmente, crea cinco instancias de la clase Persona con diferentes nombres y edades del equipo, y utiliza el método mostrar() para mostrar sus datos."
      ],
      "metadata": {
        "id": "Nh-JTBZMFNLH"
      }
    },
    {
      "cell_type": "code",
      "source": [
        "class Persona:\n",
        "    def __init__(self, nombre, edad):\n",
        "        self.nombre = nombre\n",
        "        self.edad = edad\n",
        "\n",
        "    def mostrar(self):\n",
        "        return f\"Esta persona se llama {self.nombre}, tiene {self.edad} años\""
      ],
      "metadata": {
        "id": "OHA7ye5rDJ25"
      },
      "execution_count": 2,
      "outputs": []
    },
    {
      "cell_type": "code",
      "source": [
        "aurora = Persona(\"Aurora\",33)\n",
        "print(aurora.mostrar())\n",
        "tiago = Persona(\"Tiago\",27)\n",
        "print(tiago.mostrar())\n",
        "damian = Persona(\"Damian\",39)\n",
        "print(damian.mostrar())\n",
        "sergio = Persona(\"Sergio\",30)\n",
        "print(sergio.mostrar())\n",
        "ary = Persona(\"Ariel\",36)\n",
        "print(ary.mostrar())"
      ],
      "metadata": {
        "colab": {
          "base_uri": "https://localhost:8080/"
        },
        "id": "HsXdBk9WFiid",
        "outputId": "f507a6d9-b41a-4ef1-bdad-d234d4be03fc"
      },
      "execution_count": 3,
      "outputs": [
        {
          "output_type": "stream",
          "name": "stdout",
          "text": [
            "Esta persona se llama Aurora, tiene 33 años\n",
            "Esta persona se llama Tiago, tiene 27 años\n",
            "Esta persona se llama Damian, tiene 39 años\n",
            "Esta persona se llama Sergio, tiene 30 años\n",
            "Esta persona se llama Ariel, tiene 36 años\n"
          ]
        }
      ]
    },
    {
      "cell_type": "markdown",
      "source": [
        "### Segundo punto:\n",
        "Modifica la clase Persona para que el constructor (__init__) realice las siguientes validaciones:\n",
        "\n",
        "Si edad no es un entero, lanzar una excepción de tipo TypeError con el mensaje \"La edad debe ser un número entero\".\n",
        "\n",
        "Si edad es un número negativo, lanzar una excepción de tipo ValueError con el mensaje \"La edad no puede ser negativa\".\n",
        "\n",
        "Luego, crea al menos tres instancias de la clase Persona: una con datos válidos, una con una edad que no sea un entero y otra con una edad negativa. Maneja las posibles excepciones con bloques try-except e imprime un mensaje informativo en caso de error."
      ],
      "metadata": {
        "id": "_2W2QId1FZZz"
      }
    },
    {
      "cell_type": "code",
      "source": [
        "class Persona:\n",
        "    def __init__(self, nombre, edad):\n",
        "\n",
        "        # Valida que edad sea un entero\n",
        "        if not isinstance(edad, int):\n",
        "            raise TypeError(\"La edad debe ser un número entero\")\n",
        "\n",
        "        # Valida que edad no sea negativa\n",
        "        if edad < 0:\n",
        "            raise ValueError(\"La edad no puede ser negativa\")\n",
        "\n",
        "        self.nombre = nombre\n",
        "        self.edad = edad\n",
        "\n",
        "    def mostrar(self):\n",
        "        return f\"Esta persona se llama {self.nombre}, tiene {self.edad} años\""
      ],
      "metadata": {
        "id": "-qBwpLp6Feb1"
      },
      "execution_count": 16,
      "outputs": []
    },
    {
      "cell_type": "code",
      "source": [
        "try:\n",
        "    lucas = Persona(\"Lucas\", -5)\n",
        "    lucas.mostrar()\n",
        "except (TypeError, ValueError) as e:\n",
        "    print(f\"Error: {e}\")"
      ],
      "metadata": {
        "colab": {
          "base_uri": "https://localhost:8080/"
        },
        "id": "gS71uJhiNadc",
        "outputId": "78d5b1dc-ffcf-4a1a-ff72-fb014fcabed6"
      },
      "execution_count": 17,
      "outputs": [
        {
          "output_type": "stream",
          "name": "stdout",
          "text": [
            "Error: La edad no puede ser negativa\n"
          ]
        }
      ]
    },
    {
      "cell_type": "code",
      "source": [
        "try:\n",
        "    matias = Persona(\"Matias\", \"l\")\n",
        "    matias.mostrar()\n",
        "except (TypeError, ValueError) as e:\n",
        "    print(f\"Error: {e}\")"
      ],
      "metadata": {
        "colab": {
          "base_uri": "https://localhost:8080/"
        },
        "outputId": "cc67dfff-b5d5-4686-ec89-731e98ed94e8",
        "id": "YH2k5izYN2Yz"
      },
      "execution_count": 18,
      "outputs": [
        {
          "output_type": "stream",
          "name": "stdout",
          "text": [
            "Error: La edad debe ser un número entero\n"
          ]
        }
      ]
    },
    {
      "cell_type": "code",
      "source": [
        "try:\n",
        "    alex = Persona(\"Alex\", 32)\n",
        "    print(alex.mostrar())\n",
        "except (TypeError, ValueError) as e:\n",
        "    print(f\"Error: {e}\")"
      ],
      "metadata": {
        "colab": {
          "base_uri": "https://localhost:8080/"
        },
        "outputId": "0d4e409d-b5ae-4aeb-87e1-1a1564ee59f3",
        "id": "ZZ-_D95eODNV"
      },
      "execution_count": 19,
      "outputs": [
        {
          "output_type": "stream",
          "name": "stdout",
          "text": [
            "Esta persona se llama Alex, tiene 32 años\n"
          ]
        }
      ]
    },
    {
      "cell_type": "markdown",
      "source": [
        "### Tercer punto:\n",
        "Agrega a la clase Persona un método llamado cumplir_anios() que incremente en 1 el atributo _edad de la persona.\n",
        "\n",
        "Modifica también el método mostrar() para que, después de mostrar la información inicial, imprima un mensaje adicional indicando que la persona ha cumplido años.\n",
        "\n",
        "Ejemplo de salida:\n",
        "\n",
        "Esta persona se llama Juan, tiene 30 años\n",
        "¡Feliz cumpleaños! Ahora Juan tiene 31 años.\n",
        "\n",
        "Crea dos instancias de la clase Persona, muestra sus datos iniciales, luego llama al método cumplir_anios() para ambas y vuelve a mostrar sus datos.\n"
      ],
      "metadata": {
        "id": "VB2GwCSA0B6M"
      }
    },
    {
      "cell_type": "code",
      "source": [
        "class Persona:\n",
        "    def __init__(self, nombre, edad):\n",
        "\n",
        "        # Validar que edad sea un entero\n",
        "        if not isinstance(edad, int):\n",
        "            raise TypeError(\"La edad debe ser un número entero\")\n",
        "\n",
        "        # Validar que edad no sea negativa\n",
        "        if edad < 0:\n",
        "            raise ValueError(\"La edad no puede ser negativa\")\n",
        "\n",
        "        self.nombre = nombre\n",
        "        self.edadInicial = edad\n",
        "        self.edad = edad\n",
        "\n",
        "    def mostrar(self):\n",
        "        if self.edad > self.edadInicial:\n",
        "          return f\"Esta persona se llama {self.nombre}, tiene {self.edadInicial} años. ¡Feliz cumpleaños! Ahora {self.nombre} tiene {self.edad} años.\"\n",
        "        else:\n",
        "          return f\"Esta persona se llama {self.nombre}, tiene {self.edadInicial} años\"\n",
        "\n",
        "    def cumplir_anios(self):\n",
        "        self.edad += 1"
      ],
      "metadata": {
        "id": "YJR84u6U0GJO"
      },
      "execution_count": 20,
      "outputs": []
    },
    {
      "cell_type": "code",
      "source": [
        "daniel = Persona(\"Daniel\",36)\n",
        "print(daniel.mostrar())\n",
        "daniel.cumplir_anios()\n",
        "print(daniel.mostrar())"
      ],
      "metadata": {
        "colab": {
          "base_uri": "https://localhost:8080/"
        },
        "id": "EebgcmM42t2m",
        "outputId": "e6e99d98-4668-4165-bfaf-e6610a11def5"
      },
      "execution_count": 21,
      "outputs": [
        {
          "output_type": "stream",
          "name": "stdout",
          "text": [
            "Esta persona se llama Daniel, tiene 36 años\n",
            "Esta persona se llama Daniel, tiene 36 años. ¡Feliz cumpleaños! Ahora Daniel tiene 37 años.\n"
          ]
        }
      ]
    },
    {
      "cell_type": "code",
      "source": [
        "pedro = Persona(\"Pedro\",30)\n",
        "print(pedro.mostrar())\n",
        "pedro.cumplir_anios()\n",
        "print(pedro.mostrar())"
      ],
      "metadata": {
        "colab": {
          "base_uri": "https://localhost:8080/"
        },
        "id": "b73-A33v2__G",
        "outputId": "f5ede8ad-a5d3-4c30-d29f-89c1da06108b"
      },
      "execution_count": 22,
      "outputs": [
        {
          "output_type": "stream",
          "name": "stdout",
          "text": [
            "Esta persona se llama Pedro, tiene 30 años\n",
            "Esta persona se llama Pedro, tiene 30 años. ¡Feliz cumpleaños! Ahora Pedro tiene 31 años.\n"
          ]
        }
      ]
    },
    {
      "cell_type": "markdown",
      "source": [
        "### Cuarto punto:\n",
        "Crea una función fuera de la clase Persona llamada comparar_edades(persona1, persona2) que reciba dos objetos Persona como argumentos y determine cuál de las dos personas es mayor.\n",
        "La función debe imprimir un mensaje indicando cuál persona es mayor o si tienen la misma edad.\n",
        "\n",
        "Ejemplo de salidas:\n",
        "\n",
        "Juan es mayor que Maria.\n",
        "Maria es mayor que Pedro.\n",
        "Ana y Luis tienen la misma edad.\n",
        "Crea al menos tres instancias de Persona para probar la función comparar_edades()."
      ],
      "metadata": {
        "id": "aQ1rh3gP3Z_U"
      }
    },
    {
      "cell_type": "code",
      "source": [
        "def comparar_edades(p1:Persona, p2:Persona) -> str:\n",
        "    if p1.edad == p2.edad:\n",
        "        return f\"{p1.nombre} y {p2.nombre} tienen la misma edad.\"\n",
        "    mayor, menor = (p1, p2) if p1.edad > p2.edad else (p2, p1)\n",
        "    return f\"{mayor.nombre} es mayor que {menor.nombre}.\""
      ],
      "metadata": {
        "id": "cyl5O7053lUV"
      },
      "execution_count": 11,
      "outputs": []
    },
    {
      "cell_type": "code",
      "source": [
        "print(comparar_edades(daniel,pedro))"
      ],
      "metadata": {
        "colab": {
          "base_uri": "https://localhost:8080/"
        },
        "id": "BfHLtVsG5FUJ",
        "outputId": "0428d469-b0b9-4494-cbce-242ad6e5cff3"
      },
      "execution_count": 23,
      "outputs": [
        {
          "output_type": "stream",
          "name": "stdout",
          "text": [
            "Daniel es mayor que Pedro.\n"
          ]
        }
      ]
    },
    {
      "cell_type": "code",
      "source": [
        "print(comparar_edades(damian,tiago))"
      ],
      "metadata": {
        "colab": {
          "base_uri": "https://localhost:8080/"
        },
        "id": "XcE_ncsG5Oyd",
        "outputId": "7cc30517-b918-4aef-8afd-f00347240122"
      },
      "execution_count": 13,
      "outputs": [
        {
          "output_type": "stream",
          "name": "stdout",
          "text": [
            "Damian es mayor que Tiago.\n"
          ]
        }
      ]
    },
    {
      "cell_type": "code",
      "source": [
        "victor = Persona(\"Victor\", 40)\n",
        "print(comparar_edades(daniel,victor))"
      ],
      "metadata": {
        "colab": {
          "base_uri": "https://localhost:8080/"
        },
        "id": "0gXwYEtN5PVQ",
        "outputId": "4c7870c6-4029-424e-9134-7f6afe8cacac"
      },
      "execution_count": 14,
      "outputs": [
        {
          "output_type": "stream",
          "name": "stdout",
          "text": [
            "Victor es mayor que Daniel.\n"
          ]
        }
      ]
    },
    {
      "cell_type": "markdown",
      "source": [
        "### Quinto punto:\n",
        "Crea una lista llamada lista_de_personas y agrega al menos cinco instancias de la clase Persona a la lista.\n",
        "\n",
        "Luego, crea una función llamada mostrar_lista(lista_de_personas)que reciba la lista como argumento e itere sobre ella, llamando al método mostrar() de cada persona para mostrar sus datos."
      ],
      "metadata": {
        "id": "MbabHDsCAqfK"
      }
    },
    {
      "cell_type": "code",
      "source": [
        "def mostrar_lista(personas:list) -> None:\n",
        "  for persona in personas:\n",
        "    print(persona.mostrar())\n",
        "\n",
        "\n",
        "def getData() -> list:\n",
        "  lista_de_personas = []\n",
        "  for i in range(5):\n",
        "    nombre = input(f\"Ingrese el nombre de la persona {i + 1 }: \")\n",
        "    edad = int(input(f\"Ingrese la edad de la persona {i + 1}: \"))\n",
        "    persona = Persona(nombre, edad)\n",
        "    lista_de_personas.append(persona)\n",
        "  return lista_de_personas\n",
        "\n",
        "def exec() -> None:\n",
        "  lista_de_personas = getData()\n",
        "  mostrar_lista(lista_de_personas)\n",
        "\n",
        "exec()\n"
      ],
      "metadata": {
        "colab": {
          "base_uri": "https://localhost:8080/"
        },
        "id": "bN4VCc3hAxZz",
        "outputId": "c0cf7d95-4b16-4bf4-f3f7-a28a290ffc40"
      },
      "execution_count": 24,
      "outputs": [
        {
          "output_type": "stream",
          "name": "stdout",
          "text": [
            "Ingrese el nombre de la persona 1: Damian\n",
            "Ingrese la edad de la persona 1: 39\n",
            "Ingrese el nombre de la persona 2: Tiago\n",
            "Ingrese la edad de la persona 2: 33\n",
            "Ingrese el nombre de la persona 3: Sergio\n",
            "Ingrese la edad de la persona 3: 35\n",
            "Ingrese el nombre de la persona 4: Aurora\n",
            "Ingrese la edad de la persona 4: 30\n",
            "Ingrese el nombre de la persona 5: Ariel\n",
            "Ingrese la edad de la persona 5: 32\n",
            "Esta persona se llama Damian, tiene 39 años\n",
            "Esta persona se llama Tiago, tiene 33 años\n",
            "Esta persona se llama Sergio, tiene 35 años\n",
            "Esta persona se llama Aurora, tiene 30 años\n",
            "Esta persona se llama Ariel, tiene 32 años\n"
          ]
        }
      ]
    }
  ]
}